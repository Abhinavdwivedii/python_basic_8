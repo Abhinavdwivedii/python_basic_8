{
  "nbformat": 4,
  "nbformat_minor": 0,
  "metadata": {
    "colab": {
      "provenance": []
    },
    "kernelspec": {
      "name": "python3",
      "display_name": "Python 3"
    },
    "language_info": {
      "name": "python"
    }
  },
  "cells": [
    {
      "cell_type": "markdown",
      "source": [
        "# Quesion1-) Is the Python Standard Library included with PyInputPlus?\n",
        "# Ans. PyInputPlus is not a part of the Python Standard Library, so you must install it separately using Pip"
      ],
      "metadata": {
        "id": "6xJbbMm7XNga"
      }
    },
    {
      "cell_type": "code",
      "source": [
        "!pip install PyInputPlus"
      ],
      "metadata": {
        "colab": {
          "base_uri": "https://localhost:8080/"
        },
        "id": "DH0XfdK7XU_E",
        "outputId": "97408348-086e-471f-85fa-3db040ca4678"
      },
      "execution_count": 1,
      "outputs": [
        {
          "output_type": "stream",
          "name": "stdout",
          "text": [
            "Looking in indexes: https://pypi.org/simple, https://us-python.pkg.dev/colab-wheels/public/simple/\n",
            "Collecting PyInputPlus\n",
            "  Downloading PyInputPlus-0.2.12.tar.gz (20 kB)\n",
            "  Installing build dependencies ... \u001b[?25l\u001b[?25hdone\n",
            "  Getting requirements to build wheel ... \u001b[?25l\u001b[?25hdone\n",
            "  Preparing metadata (pyproject.toml) ... \u001b[?25l\u001b[?25hdone\n",
            "Collecting pysimplevalidate>=0.2.7\n",
            "  Downloading PySimpleValidate-0.2.12.tar.gz (22 kB)\n",
            "  Installing build dependencies ... \u001b[?25l\u001b[?25hdone\n",
            "  Getting requirements to build wheel ... \u001b[?25l\u001b[?25hdone\n",
            "  Preparing metadata (pyproject.toml) ... \u001b[?25l\u001b[?25hdone\n",
            "Collecting stdiomask>=0.0.3\n",
            "  Downloading stdiomask-0.0.6.tar.gz (3.6 kB)\n",
            "  Installing build dependencies ... \u001b[?25l\u001b[?25hdone\n",
            "  Getting requirements to build wheel ... \u001b[?25l\u001b[?25hdone\n",
            "  Preparing metadata (pyproject.toml) ... \u001b[?25l\u001b[?25hdone\n",
            "Building wheels for collected packages: PyInputPlus, pysimplevalidate, stdiomask\n",
            "  Building wheel for PyInputPlus (pyproject.toml) ... \u001b[?25l\u001b[?25hdone\n",
            "  Created wheel for PyInputPlus: filename=PyInputPlus-0.2.12-py3-none-any.whl size=11315 sha256=72a260025dd7e9d71f44fd07308cc4d6d9a9437b0979af9288e1d7c4fbba3af4\n",
            "  Stored in directory: /root/.cache/pip/wheels/b9/b4/e7/825446929f44b25d05f4df52bc4f7d211e5dec4c547126a098\n",
            "  Building wheel for pysimplevalidate (pyproject.toml) ... \u001b[?25l\u001b[?25hdone\n",
            "  Created wheel for pysimplevalidate: filename=PySimpleValidate-0.2.12-py3-none-any.whl size=16192 sha256=6ff31a9ce89b81f5171ba6d8f376fec9f9459cb61c6b2e462b9caba354d92b13\n",
            "  Stored in directory: /root/.cache/pip/wheels/bd/d4/a5/a003719238ab12962e430310093e567ab7d29bc3bfe062b14c\n",
            "  Building wheel for stdiomask (pyproject.toml) ... \u001b[?25l\u001b[?25hdone\n",
            "  Created wheel for stdiomask: filename=stdiomask-0.0.6-py3-none-any.whl size=3321 sha256=e5525fe3f195d878af68711cdbf3c5d918f0f1f6975411379cad61e575e8c1d5\n",
            "  Stored in directory: /root/.cache/pip/wheels/c1/e9/4e/bcdfc282cffe91bb88e951ad9a05fb166ed6460bbe3c6dc02b\n",
            "Successfully built PyInputPlus pysimplevalidate stdiomask\n",
            "Installing collected packages: stdiomask, pysimplevalidate, PyInputPlus\n",
            "Successfully installed PyInputPlus-0.2.12 pysimplevalidate-0.2.12 stdiomask-0.0.6\n"
          ]
        }
      ]
    },
    {
      "cell_type": "code",
      "source": [],
      "metadata": {
        "id": "Ua_zPUCdXdRw"
      },
      "execution_count": null,
      "outputs": []
    },
    {
      "cell_type": "markdown",
      "source": [
        "#Queation2-) Why is PyInputPlus commonly imported with import pyinputplus as pypi?\n",
        "#Ans. pypi is alias of PyInputPlus.\n",
        "#The as pyip code in the import statement saves us from typing pyinputplus #each time we want to call a PyInputPlus function. Instead we can use the #shorter pyip name"
      ],
      "metadata": {
        "id": "B4XXjIDvXmmy"
      }
    },
    {
      "cell_type": "code",
      "source": [],
      "metadata": {
        "id": "x8pHD8l1Xzmg"
      },
      "execution_count": null,
      "outputs": []
    },
    {
      "cell_type": "markdown",
      "source": [
        "# Q3. How do you distinguish between inputInt() and inputFloat()?\n",
        "\n",
        "#Ans. \n",
        "#inputInt() : Accepts an integer value, and returns int value\n",
        "#inputFloat() : Accepts integer/floating point value and returns float value"
      ],
      "metadata": {
        "id": "Hul_LvnLX3lM"
      }
    },
    {
      "cell_type": "code",
      "source": [
        "\n",
        "import pyinputplus as pyip\n",
        "pyip.inputInt()\n",
        "pyip.inputFloat()"
      ],
      "metadata": {
        "colab": {
          "base_uri": "https://localhost:8080/"
        },
        "id": "sALufhP9X9Fq",
        "outputId": "06f35371-ec03-4357-e7e9-2229e62f03f4"
      },
      "execution_count": 5,
      "outputs": [
        {
          "name": "stdout",
          "output_type": "stream",
          "text": [
            "5.4\n",
            "'5.4' is not an integer.\n",
            "7\n",
            "9\n"
          ]
        },
        {
          "output_type": "execute_result",
          "data": {
            "text/plain": [
              "9.0"
            ]
          },
          "metadata": {},
          "execution_count": 5
        }
      ]
    },
    {
      "cell_type": "code",
      "source": [],
      "metadata": {
        "id": "HXBQhvCKYB48"
      },
      "execution_count": null,
      "outputs": []
    },
    {
      "cell_type": "markdown",
      "source": [
        "# Quesion4-) Using PyInputPlus, how do you ensure that the user enters a whole number between 0 and 99?\n",
        "\n",
        "#Ans. In the inputint function we can set the min = 0 and max =99 to ensure user enters number between 0 and 99"
      ],
      "metadata": {
        "id": "slrZYPFEYUUY"
      }
    },
    {
      "cell_type": "code",
      "source": [
        "pyip.inputInt(min = 0, max =99)"
      ],
      "metadata": {
        "colab": {
          "base_uri": "https://localhost:8080/"
        },
        "id": "K4iH5CqWYc1B",
        "outputId": "c0e8ada2-c2ae-4864-e341-8b927e2fd468"
      },
      "execution_count": 6,
      "outputs": [
        {
          "name": "stdout",
          "output_type": "stream",
          "text": [
            "754\n",
            "Number must be at maximum 99.\n",
            "85\n"
          ]
        },
        {
          "output_type": "execute_result",
          "data": {
            "text/plain": [
              "85"
            ]
          },
          "metadata": {},
          "execution_count": 6
        }
      ]
    },
    {
      "cell_type": "code",
      "source": [],
      "metadata": {
        "id": "8kO7pxRYYh_I"
      },
      "execution_count": null,
      "outputs": []
    },
    {
      "cell_type": "markdown",
      "source": [
        "#Quesion5. What is transferred to the keyword arguments allowRegexes and blockRegexes?\n",
        "\n",
        "#Ans. We can also use regular expressions to specify whether an input is allowed or not. The allowRegexes and blockRegexes keyword arguments take a list of regular expression strings to determine what the PyInputPlus function will accept or reject as valid input."
      ],
      "metadata": {
        "id": "-HJ7wpkKYmPW"
      }
    },
    {
      "cell_type": "code",
      "source": [
        "response = pyip.inputNum(allowRegexes=[r'(I|V|X|L|C|D|M)+', r'zero']) # it allowes roman letters as numbers too"
      ],
      "metadata": {
        "colab": {
          "base_uri": "https://localhost:8080/"
        },
        "id": "wxHppeBbYsj_",
        "outputId": "b25b2e4c-84f2-4d3d-dc65-ac472e27517c"
      },
      "execution_count": 8,
      "outputs": [
        {
          "name": "stdout",
          "output_type": "stream",
          "text": [
            "L\n"
          ]
        }
      ]
    },
    {
      "cell_type": "code",
      "source": [
        "response = pyip.inputNum(blockRegexes=[r'[02468]$'])# blocks the even numbers"
      ],
      "metadata": {
        "colab": {
          "base_uri": "https://localhost:8080/"
        },
        "id": "ondBLOuJYwpu",
        "outputId": "41102d6f-41a8-4ab6-9c34-e320bb2c2557"
      },
      "execution_count": 11,
      "outputs": [
        {
          "name": "stdout",
          "output_type": "stream",
          "text": [
            "4\n",
            "This response is invalid.\n",
            "5\n"
          ]
        }
      ]
    },
    {
      "cell_type": "code",
      "source": [],
      "metadata": {
        "id": "2FdPnZe0Y73F"
      },
      "execution_count": null,
      "outputs": []
    },
    {
      "cell_type": "markdown",
      "source": [
        "#Question6. If a blank input is entered three times, what does inputStr(limit=3) do?\n",
        "\n",
        "#Ans. It will throw RetryLimitException exception."
      ],
      "metadata": {
        "id": "pbRVLI9DZFSA"
      }
    },
    {
      "cell_type": "code",
      "source": [
        "response = pyip.inputStr(limit=3)\n"
      ],
      "metadata": {
        "colab": {
          "base_uri": "https://localhost:8080/"
        },
        "id": "VAhzyigwZIHJ",
        "outputId": "ede8b7dd-4c22-4ef2-ee5d-fbdc5b3427d4"
      },
      "execution_count": 13,
      "outputs": [
        {
          "name": "stdout",
          "output_type": "stream",
          "text": [
            "   \n",
            "Blank values are not allowed.\n",
            "      \n",
            "Blank values are not allowed.\n",
            "5\n"
          ]
        }
      ]
    },
    {
      "cell_type": "code",
      "source": [],
      "metadata": {
        "id": "phLX2kskZLaQ"
      },
      "execution_count": null,
      "outputs": []
    },
    {
      "cell_type": "markdown",
      "source": [
        "#Question7. If blank input is entered three times, what does inputStr(limit=3, default='hello') do?\n",
        "\n",
        "#Answer-)When you use limit keyword arguments and also pass a default keyword argument, the function returns the default value instead of raising an exception"
      ],
      "metadata": {
        "id": "6Itcl2HCZUfJ"
      }
    },
    {
      "cell_type": "code",
      "source": [
        "response = pyip.inputStr(limit=3,default='hello')\n",
        "response\n",
        "     "
      ],
      "metadata": {
        "colab": {
          "base_uri": "https://localhost:8080/",
          "height": 87
        },
        "id": "t2Dq-DHpZcXP",
        "outputId": "cb0e1777-da27-4f89-c319-da6217f15963"
      },
      "execution_count": 15,
      "outputs": [
        {
          "name": "stdout",
          "output_type": "stream",
          "text": [
            " \n",
            "Blank values are not allowed.\n",
            "a\n"
          ]
        },
        {
          "output_type": "execute_result",
          "data": {
            "text/plain": [
              "'a'"
            ],
            "application/vnd.google.colaboratory.intrinsic+json": {
              "type": "string"
            }
          },
          "metadata": {},
          "execution_count": 15
        }
      ]
    },
    {
      "cell_type": "code",
      "source": [
        " "
      ],
      "metadata": {
        "id": "j-RXaG_OZkvO"
      },
      "execution_count": null,
      "outputs": []
    }
  ]
}